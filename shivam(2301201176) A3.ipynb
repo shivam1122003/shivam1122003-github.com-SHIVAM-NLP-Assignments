{
  "nbformat": 4,
  "nbformat_minor": 0,
  "metadata": {
    "colab": {
      "provenance": []
    },
    "kernelspec": {
      "name": "python3",
      "display_name": "Python 3"
    },
    "language_info": {
      "name": "python"
    }
  },
  "cells": [
    {
      "cell_type": "code",
      "source": [
        "# 📌 Assignment 3: Text Generation with Markov Chains\n",
        "import random\n",
        "import re\n",
        "from collections import defaultdict"
      ],
      "metadata": {
        "id": "8OK7UvqRAcYM"
      },
      "execution_count": 1,
      "outputs": []
    },
    {
      "cell_type": "code",
      "source": [
        "# Step 1: Load text file (use your own file if available)\n",
        "text = \"\"\"Artificial Intelligence is transforming the world.\n",
        "It powers applications in healthcare, education, and business.\n",
        "Machines are becoming smarter every day.\n",
        "NLP helps computers understand human language.\n",
        "The future of AI is full of possibilities and challenges.\"\"\""
      ],
      "metadata": {
        "id": "yyR221H5AqS_"
      },
      "execution_count": 2,
      "outputs": []
    },
    {
      "cell_type": "code",
      "source": [
        "# Step 2: Preprocess text into tokens\n",
        "tokens = re.findall(r\"\\b\\w+\\b\", text.lower())"
      ],
      "metadata": {
        "id": "KQztXUFSAuNg"
      },
      "execution_count": 3,
      "outputs": []
    },
    {
      "cell_type": "code",
      "source": [
        "\n",
        "# Step 3: Build Bigram Model\n",
        "bigram_model = defaultdict(list)\n",
        "for i in range(len(tokens)-1):\n",
        "    bigram_model[tokens[i]].append(tokens[i+1])"
      ],
      "metadata": {
        "id": "SLxqcjtAJ0ZW"
      },
      "execution_count": 4,
      "outputs": []
    },
    {
      "cell_type": "code",
      "source": [
        "# Step 4: Function to generate random sentence\n",
        "def generate_sentence(length=10):\n",
        "    word = random.choice(tokens)\n",
        "    sentence = [word]\n",
        "    for _ in range(length-1):\n",
        "        next_words = bigram_model.get(word, tokens)\n",
        "        word = random.choice(next_words)\n",
        "        sentence.append(word)\n",
        "    return \" \".join(sentence)"
      ],
      "metadata": {
        "id": "lX87tqYqJ5NP"
      },
      "execution_count": 5,
      "outputs": []
    },
    {
      "cell_type": "code",
      "source": [
        "# Step 5: Generate 5 random sentences\n",
        "print(\"✅ Generated Sentences:\\n\")\n",
        "for i in range(5):\n",
        "    print(f\"{i+1}.\", generate_sentence(10))"
      ],
      "metadata": {
        "colab": {
          "base_uri": "https://localhost:8080/"
        },
        "id": "_Bg0b35UJ7Dj",
        "outputId": "c7f9e6d4-fbee-4dd0-edfc-5cf0402885c6"
      },
      "execution_count": 6,
      "outputs": [
        {
          "output_type": "stream",
          "name": "stdout",
          "text": [
            "✅ Generated Sentences:\n",
            "\n",
            "1. is full of ai is full of possibilities and business\n",
            "2. language the world it powers applications in healthcare education and\n",
            "3. nlp helps computers understand human language the future of ai\n",
            "4. ai is full of possibilities and business machines are becoming\n",
            "5. transforming the world it powers applications in healthcare education and\n"
          ]
        }
      ]
    },
    {
      "cell_type": "code",
      "source": [
        "# Step 6: Compare distribution (avg sentence length)\n",
        "original_avg_len = sum(len(s.split()) for s in text.split(\".\")) / len(text.split(\".\"))\n",
        "generated_avg_len = sum(len(generate_sentence(12).split()) for _ in range(5)) / 5\n",
        "\n",
        "print(\"\\nAverage sentence length in original text:\", original_avg_len)\n",
        "print(\"Average sentence length in generated text:\", generated_avg_len)"
      ],
      "metadata": {
        "colab": {
          "base_uri": "https://localhost:8080/"
        },
        "id": "byXCdrhmKFtX",
        "outputId": "1be552f2-9164-47e9-fd50-10a117a1e95d"
      },
      "execution_count": 7,
      "outputs": [
        {
          "output_type": "stream",
          "name": "stdout",
          "text": [
            "\n",
            "Average sentence length in original text: 6.0\n",
            "Average sentence length in generated text: 12.0\n"
          ]
        }
      ]
    }
  ]
}