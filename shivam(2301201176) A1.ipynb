{
  "nbformat": 4,
  "nbformat_minor": 0,
  "metadata": {
    "colab": {
      "provenance": []
    },
    "kernelspec": {
      "name": "python3",
      "display_name": "Python 3"
    },
    "language_info": {
      "name": "python"
    }
  },
  "cells": [
    {
      "cell_type": "code",
      "source": [
        "from collections import Counter\n",
        "import matplotlib.pyplot as plt\n",
        "import string"
      ],
      "metadata": {
        "id": "KjIv0SEw7yHj"
      },
      "execution_count": 3,
      "outputs": []
    },
    {
      "cell_type": "code",
      "source": [
        "text = \"\"\"Technology is transforming the way we live and work every single day.\n",
        "From smartphones to artificial intelligence, innovation is shaping the future.\n",
        "People are becoming more connected, and information is available at our fingertips.\n",
        "Education, healthcare, and business are rapidly adopting digital solutions.\n",
        "As technology evolves, it also creates new challenges and responsibilities.\n",
        "The future will depend on how wisely we use these powerful tools.\"\"\""
      ],
      "metadata": {
        "id": "S9ner9f177Fe"
      },
      "execution_count": 4,
      "outputs": []
    },
    {
      "cell_type": "code",
      "source": [
        "chars = [c.lower() for c in text if c.isalpha()]  # removes digits & punctuation"
      ],
      "metadata": {
        "id": "FAeCL_-T7_1C"
      },
      "execution_count": 5,
      "outputs": []
    },
    {
      "cell_type": "code",
      "source": [
        "freq = Counter(chars)"
      ],
      "metadata": {
        "id": "0gJKnZSM8Bg6"
      },
      "execution_count": 6,
      "outputs": []
    },
    {
      "cell_type": "code",
      "source": [
        "print(\"Top 5 most common characters:\")\n",
        "print(freq.most_common(5))"
      ],
      "metadata": {
        "colab": {
          "base_uri": "https://localhost:8080/"
        },
        "id": "eO67Zz3u8Lm3",
        "outputId": "fa6fa4e1-20e7-49b4-9e74-b3e03bba030c"
      },
      "execution_count": 7,
      "outputs": [
        {
          "output_type": "stream",
          "name": "stdout",
          "text": [
            "Top 5 most common characters:\n",
            "[('e', 47), ('i', 34), ('n', 31), ('o', 30), ('a', 29)]\n"
          ]
        }
      ]
    },
    {
      "cell_type": "code",
      "source": [
        "top_chars = freq.most_common(10)\n",
        "characters = [c for c, _ in top_chars]\n",
        "counts = [count for _, count in top_chars]"
      ],
      "metadata": {
        "id": "0zd5weXy8TvF"
      },
      "execution_count": 8,
      "outputs": []
    },
    {
      "cell_type": "code",
      "source": [
        "plt.figure(figsize=(5,4))\n",
        "plt.bar(characters, counts, color=\"lightgreen\", edgecolor=\"black\")\n",
        "plt.xlabel(\"Characters\")\n",
        "plt.ylabel(\"Frequency\")\n",
        "plt.title(\"Top 5 Most Common Characters\")\n",
        "plt.show()"
      ],
      "metadata": {
        "colab": {
          "base_uri": "https://localhost:8080/",
          "height": 410
        },
        "id": "A-WNqcVV8VtF",
        "outputId": "28a9ea65-2799-4068-dd42-9b8bf7a1f6b1"
      },
      "execution_count": 9,
      "outputs": [
        {
          "output_type": "display_data",
          "data": {
            "text/plain": [
              "<Figure size 500x400 with 1 Axes>"
            ],
            "image/png": "[encoded data removed]"
          },
          "metadata": {}
        }
      ]
    }
  ]
}